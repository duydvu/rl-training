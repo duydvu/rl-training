{
 "cells": [
  {
   "cell_type": "code",
   "execution_count": 1,
   "metadata": {},
   "outputs": [],
   "source": [
    "import pandas as pd"
   ]
  },
  {
   "cell_type": "code",
   "execution_count": 37,
   "metadata": {},
   "outputs": [],
   "source": [
    "df = pd.read_csv('Data/data_20200817-1601.csv')"
   ]
  },
  {
   "cell_type": "code",
   "execution_count": 38,
   "metadata": {},
   "outputs": [
    {
     "data": {
      "text/html": [
       "<div>\n",
       "<style scoped>\n",
       "    .dataframe tbody tr th:only-of-type {\n",
       "        vertical-align: middle;\n",
       "    }\n",
       "\n",
       "    .dataframe tbody tr th {\n",
       "        vertical-align: top;\n",
       "    }\n",
       "\n",
       "    .dataframe thead th {\n",
       "        text-align: right;\n",
       "    }\n",
       "</style>\n",
       "<table border=\"1\" class=\"dataframe\">\n",
       "  <thead>\n",
       "    <tr style=\"text-align: right;\">\n",
       "      <th></th>\n",
       "      <th>Ep</th>\n",
       "      <th>Step</th>\n",
       "      <th>Reward</th>\n",
       "      <th>Total_reward</th>\n",
       "      <th>Action</th>\n",
       "      <th>Epsilon</th>\n",
       "      <th>Done</th>\n",
       "    </tr>\n",
       "  </thead>\n",
       "  <tbody>\n",
       "    <tr>\n",
       "      <th>0</th>\n",
       "      <td>1.0</td>\n",
       "      <td>1.0</td>\n",
       "      <td>-0.2</td>\n",
       "      <td>-0.2</td>\n",
       "      <td>4.0</td>\n",
       "      <td>1.000000</td>\n",
       "      <td>0.0</td>\n",
       "    </tr>\n",
       "    <tr>\n",
       "      <th>1</th>\n",
       "      <td>1.0</td>\n",
       "      <td>2.0</td>\n",
       "      <td>-0.2</td>\n",
       "      <td>-0.4</td>\n",
       "      <td>4.0</td>\n",
       "      <td>1.000000</td>\n",
       "      <td>0.0</td>\n",
       "    </tr>\n",
       "    <tr>\n",
       "      <th>2</th>\n",
       "      <td>1.0</td>\n",
       "      <td>3.0</td>\n",
       "      <td>-0.2</td>\n",
       "      <td>-0.6</td>\n",
       "      <td>4.0</td>\n",
       "      <td>1.000000</td>\n",
       "      <td>0.0</td>\n",
       "    </tr>\n",
       "    <tr>\n",
       "      <th>3</th>\n",
       "      <td>1.0</td>\n",
       "      <td>4.0</td>\n",
       "      <td>0.0</td>\n",
       "      <td>-0.6</td>\n",
       "      <td>1.0</td>\n",
       "      <td>1.000000</td>\n",
       "      <td>0.0</td>\n",
       "    </tr>\n",
       "    <tr>\n",
       "      <th>4</th>\n",
       "      <td>1.0</td>\n",
       "      <td>5.0</td>\n",
       "      <td>0.0</td>\n",
       "      <td>-0.6</td>\n",
       "      <td>3.0</td>\n",
       "      <td>1.000000</td>\n",
       "      <td>0.0</td>\n",
       "    </tr>\n",
       "    <tr>\n",
       "      <th>...</th>\n",
       "      <td>...</td>\n",
       "      <td>...</td>\n",
       "      <td>...</td>\n",
       "      <td>...</td>\n",
       "      <td>...</td>\n",
       "      <td>...</td>\n",
       "      <td>...</td>\n",
       "    </tr>\n",
       "    <tr>\n",
       "      <th>1133814</th>\n",
       "      <td>29665.0</td>\n",
       "      <td>25.0</td>\n",
       "      <td>-0.2</td>\n",
       "      <td>-4.6</td>\n",
       "      <td>4.0</td>\n",
       "      <td>0.228999</td>\n",
       "      <td>0.0</td>\n",
       "    </tr>\n",
       "    <tr>\n",
       "      <th>1133815</th>\n",
       "      <td>29665.0</td>\n",
       "      <td>26.0</td>\n",
       "      <td>-0.2</td>\n",
       "      <td>-4.8</td>\n",
       "      <td>4.0</td>\n",
       "      <td>0.228999</td>\n",
       "      <td>0.0</td>\n",
       "    </tr>\n",
       "    <tr>\n",
       "      <th>1133816</th>\n",
       "      <td>29665.0</td>\n",
       "      <td>27.0</td>\n",
       "      <td>-0.2</td>\n",
       "      <td>-5.0</td>\n",
       "      <td>4.0</td>\n",
       "      <td>0.228999</td>\n",
       "      <td>0.0</td>\n",
       "    </tr>\n",
       "    <tr>\n",
       "      <th>1133817</th>\n",
       "      <td>29665.0</td>\n",
       "      <td>28.0</td>\n",
       "      <td>-0.2</td>\n",
       "      <td>-5.2</td>\n",
       "      <td>4.0</td>\n",
       "      <td>0.228999</td>\n",
       "      <td>0.0</td>\n",
       "    </tr>\n",
       "    <tr>\n",
       "      <th>1133818</th>\n",
       "      <td>29665.0</td>\n",
       "      <td>29.0</td>\n",
       "      <td>-0.2</td>\n",
       "      <td>-5.4</td>\n",
       "      <td>4.0</td>\n",
       "      <td>0.228999</td>\n",
       "      <td>0.0</td>\n",
       "    </tr>\n",
       "  </tbody>\n",
       "</table>\n",
       "<p>1133819 rows × 7 columns</p>\n",
       "</div>"
      ],
      "text/plain": [
       "              Ep  Step  Reward  Total_reward  Action   Epsilon  Done\n",
       "0            1.0   1.0    -0.2          -0.2     4.0  1.000000   0.0\n",
       "1            1.0   2.0    -0.2          -0.4     4.0  1.000000   0.0\n",
       "2            1.0   3.0    -0.2          -0.6     4.0  1.000000   0.0\n",
       "3            1.0   4.0     0.0          -0.6     1.0  1.000000   0.0\n",
       "4            1.0   5.0     0.0          -0.6     3.0  1.000000   0.0\n",
       "...          ...   ...     ...           ...     ...       ...   ...\n",
       "1133814  29665.0  25.0    -0.2          -4.6     4.0  0.228999   0.0\n",
       "1133815  29665.0  26.0    -0.2          -4.8     4.0  0.228999   0.0\n",
       "1133816  29665.0  27.0    -0.2          -5.0     4.0  0.228999   0.0\n",
       "1133817  29665.0  28.0    -0.2          -5.2     4.0  0.228999   0.0\n",
       "1133818  29665.0  29.0    -0.2          -5.4     4.0  0.228999   0.0\n",
       "\n",
       "[1133819 rows x 7 columns]"
      ]
     },
     "execution_count": 38,
     "metadata": {},
     "output_type": "execute_result"
    }
   ],
   "source": [
    "df"
   ]
  },
  {
   "cell_type": "code",
   "execution_count": 39,
   "metadata": {},
   "outputs": [],
   "source": [
    "df2 = df.drop_duplicates(subset=['Ep'], keep='last')"
   ]
  },
  {
   "cell_type": "code",
   "execution_count": 40,
   "metadata": {},
   "outputs": [
    {
     "data": {
      "text/html": [
       "<div>\n",
       "<style scoped>\n",
       "    .dataframe tbody tr th:only-of-type {\n",
       "        vertical-align: middle;\n",
       "    }\n",
       "\n",
       "    .dataframe tbody tr th {\n",
       "        vertical-align: top;\n",
       "    }\n",
       "\n",
       "    .dataframe thead th {\n",
       "        text-align: right;\n",
       "    }\n",
       "</style>\n",
       "<table border=\"1\" class=\"dataframe\">\n",
       "  <thead>\n",
       "    <tr style=\"text-align: right;\">\n",
       "      <th></th>\n",
       "      <th>Ep</th>\n",
       "      <th>Step</th>\n",
       "      <th>Reward</th>\n",
       "      <th>Total_reward</th>\n",
       "      <th>Action</th>\n",
       "      <th>Epsilon</th>\n",
       "      <th>Done</th>\n",
       "    </tr>\n",
       "  </thead>\n",
       "  <tbody>\n",
       "    <tr>\n",
       "      <th>10</th>\n",
       "      <td>1.0</td>\n",
       "      <td>11.0</td>\n",
       "      <td>-1.0</td>\n",
       "      <td>-1.6</td>\n",
       "      <td>3.0</td>\n",
       "      <td>1.000000</td>\n",
       "      <td>1.0</td>\n",
       "    </tr>\n",
       "    <tr>\n",
       "      <th>16</th>\n",
       "      <td>2.0</td>\n",
       "      <td>6.0</td>\n",
       "      <td>-1.0</td>\n",
       "      <td>-1.6</td>\n",
       "      <td>1.0</td>\n",
       "      <td>1.000000</td>\n",
       "      <td>1.0</td>\n",
       "    </tr>\n",
       "    <tr>\n",
       "      <th>28</th>\n",
       "      <td>3.0</td>\n",
       "      <td>12.0</td>\n",
       "      <td>-1.0</td>\n",
       "      <td>-1.2</td>\n",
       "      <td>1.0</td>\n",
       "      <td>1.000000</td>\n",
       "      <td>1.0</td>\n",
       "    </tr>\n",
       "    <tr>\n",
       "      <th>37</th>\n",
       "      <td>4.0</td>\n",
       "      <td>9.0</td>\n",
       "      <td>-1.0</td>\n",
       "      <td>-1.4</td>\n",
       "      <td>3.0</td>\n",
       "      <td>1.000000</td>\n",
       "      <td>1.0</td>\n",
       "    </tr>\n",
       "    <tr>\n",
       "      <th>38</th>\n",
       "      <td>5.0</td>\n",
       "      <td>1.0</td>\n",
       "      <td>-1.2</td>\n",
       "      <td>-1.2</td>\n",
       "      <td>0.0</td>\n",
       "      <td>1.000000</td>\n",
       "      <td>1.0</td>\n",
       "    </tr>\n",
       "    <tr>\n",
       "      <th>...</th>\n",
       "      <td>...</td>\n",
       "      <td>...</td>\n",
       "      <td>...</td>\n",
       "      <td>...</td>\n",
       "      <td>...</td>\n",
       "      <td>...</td>\n",
       "      <td>...</td>\n",
       "    </tr>\n",
       "    <tr>\n",
       "      <th>1133525</th>\n",
       "      <td>29661.0</td>\n",
       "      <td>36.0</td>\n",
       "      <td>-1.0</td>\n",
       "      <td>-6.8</td>\n",
       "      <td>2.0</td>\n",
       "      <td>0.229045</td>\n",
       "      <td>1.0</td>\n",
       "    </tr>\n",
       "    <tr>\n",
       "      <th>1133594</th>\n",
       "      <td>29662.0</td>\n",
       "      <td>69.0</td>\n",
       "      <td>-1.0</td>\n",
       "      <td>-13.4</td>\n",
       "      <td>3.0</td>\n",
       "      <td>0.229034</td>\n",
       "      <td>1.0</td>\n",
       "    </tr>\n",
       "    <tr>\n",
       "      <th>1133694</th>\n",
       "      <td>29663.0</td>\n",
       "      <td>100.0</td>\n",
       "      <td>-0.2</td>\n",
       "      <td>-17.6</td>\n",
       "      <td>4.0</td>\n",
       "      <td>0.229022</td>\n",
       "      <td>1.0</td>\n",
       "    </tr>\n",
       "    <tr>\n",
       "      <th>1133789</th>\n",
       "      <td>29664.0</td>\n",
       "      <td>95.0</td>\n",
       "      <td>-1.0</td>\n",
       "      <td>-13.6</td>\n",
       "      <td>3.0</td>\n",
       "      <td>0.229011</td>\n",
       "      <td>1.0</td>\n",
       "    </tr>\n",
       "    <tr>\n",
       "      <th>1133818</th>\n",
       "      <td>29665.0</td>\n",
       "      <td>29.0</td>\n",
       "      <td>-0.2</td>\n",
       "      <td>-5.4</td>\n",
       "      <td>4.0</td>\n",
       "      <td>0.228999</td>\n",
       "      <td>0.0</td>\n",
       "    </tr>\n",
       "  </tbody>\n",
       "</table>\n",
       "<p>29665 rows × 7 columns</p>\n",
       "</div>"
      ],
      "text/plain": [
       "              Ep   Step  Reward  Total_reward  Action   Epsilon  Done\n",
       "10           1.0   11.0    -1.0          -1.6     3.0  1.000000   1.0\n",
       "16           2.0    6.0    -1.0          -1.6     1.0  1.000000   1.0\n",
       "28           3.0   12.0    -1.0          -1.2     1.0  1.000000   1.0\n",
       "37           4.0    9.0    -1.0          -1.4     3.0  1.000000   1.0\n",
       "38           5.0    1.0    -1.2          -1.2     0.0  1.000000   1.0\n",
       "...          ...    ...     ...           ...     ...       ...   ...\n",
       "1133525  29661.0   36.0    -1.0          -6.8     2.0  0.229045   1.0\n",
       "1133594  29662.0   69.0    -1.0         -13.4     3.0  0.229034   1.0\n",
       "1133694  29663.0  100.0    -0.2         -17.6     4.0  0.229022   1.0\n",
       "1133789  29664.0   95.0    -1.0         -13.6     3.0  0.229011   1.0\n",
       "1133818  29665.0   29.0    -0.2          -5.4     4.0  0.228999   0.0\n",
       "\n",
       "[29665 rows x 7 columns]"
      ]
     },
     "execution_count": 40,
     "metadata": {},
     "output_type": "execute_result"
    }
   ],
   "source": [
    "df2"
   ]
  },
  {
   "cell_type": "code",
   "execution_count": 41,
   "metadata": {},
   "outputs": [
    {
     "data": {
      "text/plain": [
       "<AxesSubplot:xlabel='Ep'>"
      ]
     },
     "execution_count": 41,
     "metadata": {},
     "output_type": "execute_result"
    },
    {
     "data": {
      "image/png": "[encoded data removed]",
      "text/plain": [
       "<Figure size 432x288 with 1 Axes>"
      ]
     },
     "metadata": {
      "needs_background": "light"
     },
     "output_type": "display_data"
    }
   ],
   "source": [
    "df2.plot(kind='line',x='Ep',y='Total_reward',color='red')"
   ]
  },
  {
   "cell_type": "code",
   "execution_count": 42,
   "metadata": {},
   "outputs": [
    {
     "data": {
      "text/plain": [
       "<AxesSubplot:>"
      ]
     },
     "execution_count": 42,
     "metadata": {},
     "output_type": "execute_result"
    },
    {
     "data": {
      "image/png": "[encoded data removed]",
      "text/plain": [
       "<Figure size 432x288 with 1 Axes>"
      ]
     },
     "metadata": {
      "needs_background": "light"
     },
     "output_type": "display_data"
    }
   ],
   "source": [
    "df2.Total_reward.ewm(span=1000).mean().plot(kind='line')"
   ]
  },
  {
   "cell_type": "code",
   "execution_count": null,
   "metadata": {},
   "outputs": [],
   "source": []
  }
 ],
 "metadata": {
  "kernelspec": {
   "display_name": "Python 3",
   "language": "python",
   "name": "python3"
  },
  "language_info": {
   "codemirror_mode": {
    "name": "ipython",
    "version": 3
   },
   "file_extension": ".py",
   "mimetype": "text/x-python",
   "name": "python",
   "nbconvert_exporter": "python",
   "pygments_lexer": "ipython3",
   "version": "3.6.9"
  }
 },
 "nbformat": 4,
 "nbformat_minor": 4
}
